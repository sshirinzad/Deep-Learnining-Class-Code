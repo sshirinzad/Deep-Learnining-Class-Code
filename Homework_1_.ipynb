{
  "nbformat": 4,
  "nbformat_minor": 0,
  "metadata": {
    "colab": {
      "provenance": [],
      "include_colab_link": true
    },
    "kernelspec": {
      "name": "python3",
      "display_name": "Python 3"
    }
  },
  "cells": [
    {
      "cell_type": "markdown",
      "metadata": {
        "id": "view-in-github",
        "colab_type": "text"
      },
      "source": [
        "<a href=\"https://colab.research.google.com/github/sshirinzad/Deep-Learnining-Class-Code/blob/main/Homework_1_.ipynb\" target=\"_parent\"><img src=\"https://colab.research.google.com/assets/colab-badge.svg\" alt=\"Open In Colab\"/></a>"
      ]
    },
    {
      "cell_type": "markdown",
      "metadata": {
        "id": "hxquXacey-jC"
      },
      "source": []
    },
    {
      "cell_type": "code",
      "metadata": {
        "id": "w5q7ZTR-7P8r"
      },
      "source": [],
      "execution_count": null,
      "outputs": []
    },
    {
      "cell_type": "markdown",
      "metadata": {
        "id": "_fOWczMGzCEe"
      },
      "source": []
    },
    {
      "cell_type": "code",
      "metadata": {
        "id": "uTcPTAlXzD-A"
      },
      "source": [
        "import tensorflow as tf\n",
        "import numpy as np\n",
        "from  tensorflow import keras"
      ],
      "execution_count": null,
      "outputs": []
    },
    {
      "cell_type": "code",
      "metadata": {
        "id": "8ixJrEaozj7d"
      },
      "source": [
        "# choosing a random seed for reproducibility\n",
        "np.random.seed(1671)"
      ],
      "execution_count": null,
      "outputs": []
    },
    {
      "cell_type": "code",
      "metadata": {
        "id": "wJbVaFGkzrx5"
      },
      "source": [
        "# network and training\n",
        "EPOCHS =200\n",
        "BATCH_SIZE = 128\n",
        "VERBOSE = 1\n",
        "NB_CLASSES =10 #number of outputs =  Number of digits\n",
        "N_HIDDEN =128\n",
        "VALIDATION_SPLIT =0.2 # How much data is reserved for validation"
      ],
      "execution_count": null,
      "outputs": []
    },
    {
      "cell_type": "code",
      "metadata": {
        "id": "cQ6OvRr7zsK7",
        "outputId": "3b96ffb8-8dce-458e-a7fc-df070abe7f7e",
        "colab": {
          "base_uri": "https://localhost:8080/",
          "height": 85
        }
      },
      "source": [
        "# loading MNIST dataset\n",
        "# verify the split between train and test is 60,000 and 10,000 respectively one -hot is automatically applied\n",
        "mnist = keras.datasets.mnist\n",
        "(X_train, Y_train), (X_test, Y_test) = mnist.load_data()\n",
        "print(X_train.shape[0], 'train samples')\n",
        "print(X_test.shape[0], ' test samples')\n",
        "\n",
        "\n",
        "\n",
        "\n"
      ],
      "execution_count": null,
      "outputs": [
        {
          "output_type": "stream",
          "text": [
            "Downloading data from https://storage.googleapis.com/tensorflow/tf-keras-datasets/mnist.npz\n",
            "11493376/11490434 [==============================] - 0s 0us/step\n",
            "60000 train samples\n",
            "10000  test samples\n"
          ],
          "name": "stdout"
        }
      ]
    },
    {
      "cell_type": "code",
      "metadata": {
        "id": "v9Iut5MDoA-K"
      },
      "source": [
        "RESHAPED=784\n",
        "X_train=X_train.reshape(60000,RESHAPED)\n",
        "X_test=X_test.reshape(10000,RESHAPED)\n",
        "X_train=X_train.astype('float32')\n",
        "X_test=X_test.astype('float32')"
      ],
      "execution_count": null,
      "outputs": []
    },
    {
      "cell_type": "code",
      "metadata": {
        "id": "lbMsbMWpFFwX",
        "colab": {
          "base_uri": "https://localhost:8080/",
          "height": 51
        },
        "outputId": "ea2169eb-688c-4ee2-eb0e-ddf89abb862e"
      },
      "source": [
        "#normalize in [0,1]\n",
        "X_train, X_test = X_train / 255.0, X_test / 255.0\n",
        "print(X_train.shape[0], 'train samples')\n",
        "print(X_test.shape[0], 'test samples')"
      ],
      "execution_count": null,
      "outputs": [
        {
          "output_type": "stream",
          "text": [
            "60000 train samples\n",
            "10000 test samples\n"
          ],
          "name": "stdout"
        }
      ]
    },
    {
      "cell_type": "code",
      "metadata": {
        "id": "9QBkl36uF7PM"
      },
      "source": [
        "#one-hot\n",
        "Y_train = tf.keras.utils.to_categorical(Y_train, NB_CLASSES)\n",
        "Y_test = tf.keras.utils.to_categorical(Y_test, NB_CLASSES)"
      ],
      "execution_count": null,
      "outputs": []
    },
    {
      "cell_type": "code",
      "metadata": {
        "id": "Tql6UBJsG3eJ",
        "colab": {
          "base_uri": "https://localhost:8080/",
          "height": 187
        },
        "outputId": "4230b044-7bbb-43fd-c13a-7bd4c6559410"
      },
      "source": [
        "#build the model\n",
        "model = tf.keras.models.Sequential()\n",
        "model.add(keras.layers.Dense(NB_CLASSES,\n",
        "   \t\tinput_shape=(RESHAPED,),\n",
        "   \t\tname='dense_layer',\n",
        "   \t\tactivation='softmax'))\n",
        "\n",
        "# summary of the model\n",
        "model.summary()"
      ],
      "execution_count": null,
      "outputs": [
        {
          "output_type": "stream",
          "text": [
            "Model: \"sequential\"\n",
            "_________________________________________________________________\n",
            "Layer (type)                 Output Shape              Param #   \n",
            "=================================================================\n",
            "dense_layer (Dense)          (None, 10)                7850      \n",
            "=================================================================\n",
            "Total params: 7,850\n",
            "Trainable params: 7,850\n",
            "Non-trainable params: 0\n",
            "_________________________________________________________________\n"
          ],
          "name": "stdout"
        }
      ]
    },
    {
      "cell_type": "code",
      "metadata": {
        "id": "mKyDv0_aHd8k"
      },
      "source": [
        "# compiling the model\n",
        "model.compile(optimizer='SGD',\n",
        "              loss='categorical_crossentropy',\n",
        "              metrics=['accuracy'])"
      ],
      "execution_count": null,
      "outputs": []
    },
    {
      "cell_type": "code",
      "metadata": {
        "id": "CDPjwMRaIBTn",
        "colab": {
          "base_uri": "https://localhost:8080/",
          "height": 1000
        },
        "outputId": "f1a3beed-45f3-4731-e8cb-c0ff439695c8"
      },
      "source": [
        "#training the model\n",
        "model.fit(X_train, Y_train,\n",
        "\t\tbatch_size=BATCH_SIZE, epochs=EPOCHS,\n",
        "\t\tverbose=VERBOSE, validation_split=VALIDATION_SPLIT)"
      ],
      "execution_count": null,
      "outputs": [
        {
          "output_type": "stream",
          "text": [
            "Epoch 1/200\n",
            "375/375 [==============================] - 1s 3ms/step - loss: 2.3024 - accuracy: 0.1085 - val_loss: 2.3023 - val_accuracy: 0.1060\n",
            "Epoch 2/200\n",
            "375/375 [==============================] - 1s 3ms/step - loss: 2.3017 - accuracy: 0.1140 - val_loss: 2.3021 - val_accuracy: 0.1060\n",
            "Epoch 3/200\n",
            "375/375 [==============================] - 1s 2ms/step - loss: 2.3014 - accuracy: 0.1140 - val_loss: 2.3021 - val_accuracy: 0.1060\n",
            "Epoch 4/200\n",
            "375/375 [==============================] - 1s 2ms/step - loss: 2.3012 - accuracy: 0.1140 - val_loss: 2.3020 - val_accuracy: 0.1060\n",
            "Epoch 5/200\n",
            "375/375 [==============================] - 1s 2ms/step - loss: 2.3011 - accuracy: 0.1140 - val_loss: 2.3020 - val_accuracy: 0.1060\n",
            "Epoch 6/200\n",
            "375/375 [==============================] - 1s 2ms/step - loss: 2.3010 - accuracy: 0.1140 - val_loss: 2.3019 - val_accuracy: 0.1060\n",
            "Epoch 7/200\n",
            "375/375 [==============================] - 1s 2ms/step - loss: 2.3009 - accuracy: 0.1140 - val_loss: 2.3019 - val_accuracy: 0.1060\n",
            "Epoch 8/200\n",
            "375/375 [==============================] - 1s 2ms/step - loss: 2.3008 - accuracy: 0.1140 - val_loss: 2.3019 - val_accuracy: 0.1060\n",
            "Epoch 9/200\n",
            "375/375 [==============================] - 1s 2ms/step - loss: 2.3008 - accuracy: 0.1140 - val_loss: 2.3018 - val_accuracy: 0.1060\n",
            "Epoch 10/200\n",
            "375/375 [==============================] - 1s 2ms/step - loss: 2.3007 - accuracy: 0.1140 - val_loss: 2.3018 - val_accuracy: 0.1060\n",
            "Epoch 11/200\n",
            "375/375 [==============================] - 1s 2ms/step - loss: 2.3006 - accuracy: 0.1140 - val_loss: 2.3017 - val_accuracy: 0.1060\n",
            "Epoch 12/200\n",
            "375/375 [==============================] - 1s 2ms/step - loss: 2.3006 - accuracy: 0.1140 - val_loss: 2.3016 - val_accuracy: 0.1060\n",
            "Epoch 13/200\n",
            "375/375 [==============================] - 1s 2ms/step - loss: 2.3005 - accuracy: 0.1140 - val_loss: 2.3016 - val_accuracy: 0.1060\n",
            "Epoch 14/200\n",
            "375/375 [==============================] - 1s 2ms/step - loss: 2.3005 - accuracy: 0.1140 - val_loss: 2.3015 - val_accuracy: 0.1060\n",
            "Epoch 15/200\n",
            "375/375 [==============================] - 1s 2ms/step - loss: 2.3004 - accuracy: 0.1140 - val_loss: 2.3014 - val_accuracy: 0.1060\n",
            "Epoch 16/200\n",
            "375/375 [==============================] - 1s 2ms/step - loss: 2.3003 - accuracy: 0.1140 - val_loss: 2.3014 - val_accuracy: 0.1060\n",
            "Epoch 17/200\n",
            "375/375 [==============================] - 1s 2ms/step - loss: 2.3003 - accuracy: 0.1140 - val_loss: 2.3013 - val_accuracy: 0.1060\n",
            "Epoch 18/200\n",
            "375/375 [==============================] - 1s 2ms/step - loss: 2.3002 - accuracy: 0.1140 - val_loss: 2.3012 - val_accuracy: 0.1060\n",
            "Epoch 19/200\n",
            "375/375 [==============================] - 1s 2ms/step - loss: 2.3001 - accuracy: 0.1140 - val_loss: 2.3012 - val_accuracy: 0.1060\n",
            "Epoch 20/200\n",
            "375/375 [==============================] - 1s 2ms/step - loss: 2.3001 - accuracy: 0.1140 - val_loss: 2.3011 - val_accuracy: 0.1060\n",
            "Epoch 21/200\n",
            "375/375 [==============================] - 1s 2ms/step - loss: 2.3000 - accuracy: 0.1140 - val_loss: 2.3011 - val_accuracy: 0.1060\n",
            "Epoch 22/200\n",
            "375/375 [==============================] - 1s 2ms/step - loss: 2.2999 - accuracy: 0.1140 - val_loss: 2.3010 - val_accuracy: 0.1060\n",
            "Epoch 23/200\n",
            "375/375 [==============================] - 1s 2ms/step - loss: 2.2999 - accuracy: 0.1140 - val_loss: 2.3009 - val_accuracy: 0.1060\n",
            "Epoch 24/200\n",
            "375/375 [==============================] - 1s 2ms/step - loss: 2.2998 - accuracy: 0.1140 - val_loss: 2.3009 - val_accuracy: 0.1060\n",
            "Epoch 25/200\n",
            "375/375 [==============================] - 1s 2ms/step - loss: 2.2998 - accuracy: 0.1140 - val_loss: 2.3008 - val_accuracy: 0.1060\n",
            "Epoch 26/200\n",
            "375/375 [==============================] - 1s 2ms/step - loss: 2.2997 - accuracy: 0.1140 - val_loss: 2.3007 - val_accuracy: 0.1060\n",
            "Epoch 27/200\n",
            "375/375 [==============================] - 1s 2ms/step - loss: 2.2996 - accuracy: 0.1140 - val_loss: 2.3007 - val_accuracy: 0.1060\n",
            "Epoch 28/200\n",
            "375/375 [==============================] - 1s 2ms/step - loss: 2.2996 - accuracy: 0.1140 - val_loss: 2.3006 - val_accuracy: 0.1060\n",
            "Epoch 29/200\n",
            "375/375 [==============================] - 1s 2ms/step - loss: 2.2995 - accuracy: 0.1140 - val_loss: 2.3005 - val_accuracy: 0.1060\n",
            "Epoch 30/200\n",
            "375/375 [==============================] - 1s 2ms/step - loss: 2.2994 - accuracy: 0.1140 - val_loss: 2.3005 - val_accuracy: 0.1060\n",
            "Epoch 31/200\n",
            "375/375 [==============================] - 1s 2ms/step - loss: 2.2994 - accuracy: 0.1140 - val_loss: 2.3004 - val_accuracy: 0.1060\n",
            "Epoch 32/200\n",
            "375/375 [==============================] - 1s 2ms/step - loss: 2.2993 - accuracy: 0.1140 - val_loss: 2.3004 - val_accuracy: 0.1060\n",
            "Epoch 33/200\n",
            "375/375 [==============================] - 1s 2ms/step - loss: 2.2992 - accuracy: 0.1140 - val_loss: 2.3003 - val_accuracy: 0.1060\n",
            "Epoch 34/200\n",
            "375/375 [==============================] - 1s 2ms/step - loss: 2.2992 - accuracy: 0.1140 - val_loss: 2.3002 - val_accuracy: 0.1060\n",
            "Epoch 35/200\n",
            "375/375 [==============================] - 1s 2ms/step - loss: 2.2991 - accuracy: 0.1140 - val_loss: 2.3002 - val_accuracy: 0.1060\n",
            "Epoch 36/200\n",
            "375/375 [==============================] - 1s 2ms/step - loss: 2.2991 - accuracy: 0.1140 - val_loss: 2.3001 - val_accuracy: 0.1060\n",
            "Epoch 37/200\n",
            "375/375 [==============================] - 1s 2ms/step - loss: 2.2990 - accuracy: 0.1140 - val_loss: 2.3000 - val_accuracy: 0.1060\n",
            "Epoch 38/200\n",
            "375/375 [==============================] - 1s 2ms/step - loss: 2.2989 - accuracy: 0.1140 - val_loss: 2.3000 - val_accuracy: 0.1060\n",
            "Epoch 39/200\n",
            "375/375 [==============================] - 1s 2ms/step - loss: 2.2989 - accuracy: 0.1140 - val_loss: 2.2999 - val_accuracy: 0.1060\n",
            "Epoch 40/200\n",
            "375/375 [==============================] - 1s 2ms/step - loss: 2.2988 - accuracy: 0.1140 - val_loss: 2.2998 - val_accuracy: 0.1060\n",
            "Epoch 41/200\n",
            "375/375 [==============================] - 1s 2ms/step - loss: 2.2987 - accuracy: 0.1140 - val_loss: 2.2998 - val_accuracy: 0.1060\n",
            "Epoch 42/200\n",
            "375/375 [==============================] - 1s 2ms/step - loss: 2.2987 - accuracy: 0.1140 - val_loss: 2.2997 - val_accuracy: 0.1060\n",
            "Epoch 43/200\n",
            "375/375 [==============================] - 1s 2ms/step - loss: 2.2986 - accuracy: 0.1140 - val_loss: 2.2997 - val_accuracy: 0.1060\n",
            "Epoch 44/200\n",
            "375/375 [==============================] - 1s 2ms/step - loss: 2.2986 - accuracy: 0.1140 - val_loss: 2.2996 - val_accuracy: 0.1060\n",
            "Epoch 45/200\n",
            "375/375 [==============================] - 1s 2ms/step - loss: 2.2985 - accuracy: 0.1140 - val_loss: 2.2995 - val_accuracy: 0.1060\n",
            "Epoch 46/200\n",
            "375/375 [==============================] - 1s 2ms/step - loss: 2.2984 - accuracy: 0.1140 - val_loss: 2.2995 - val_accuracy: 0.1060\n",
            "Epoch 47/200\n",
            "375/375 [==============================] - 1s 2ms/step - loss: 2.2984 - accuracy: 0.1140 - val_loss: 2.2994 - val_accuracy: 0.1060\n",
            "Epoch 48/200\n",
            "375/375 [==============================] - 1s 2ms/step - loss: 2.2983 - accuracy: 0.1140 - val_loss: 2.2993 - val_accuracy: 0.1060\n",
            "Epoch 49/200\n",
            "375/375 [==============================] - 1s 2ms/step - loss: 2.2982 - accuracy: 0.1140 - val_loss: 2.2993 - val_accuracy: 0.1060\n",
            "Epoch 50/200\n",
            "375/375 [==============================] - 1s 2ms/step - loss: 2.2982 - accuracy: 0.1140 - val_loss: 2.2992 - val_accuracy: 0.1060\n",
            "Epoch 51/200\n",
            "375/375 [==============================] - 1s 2ms/step - loss: 2.2981 - accuracy: 0.1140 - val_loss: 2.2991 - val_accuracy: 0.1060\n",
            "Epoch 52/200\n",
            "375/375 [==============================] - 1s 2ms/step - loss: 2.2980 - accuracy: 0.1140 - val_loss: 2.2991 - val_accuracy: 0.1060\n",
            "Epoch 53/200\n",
            "375/375 [==============================] - 1s 2ms/step - loss: 2.2980 - accuracy: 0.1140 - val_loss: 2.2990 - val_accuracy: 0.1060\n",
            "Epoch 54/200\n",
            "375/375 [==============================] - 1s 2ms/step - loss: 2.2979 - accuracy: 0.1140 - val_loss: 2.2989 - val_accuracy: 0.1060\n",
            "Epoch 55/200\n",
            "375/375 [==============================] - 1s 2ms/step - loss: 2.2979 - accuracy: 0.1140 - val_loss: 2.2989 - val_accuracy: 0.1060\n",
            "Epoch 56/200\n",
            "375/375 [==============================] - 1s 2ms/step - loss: 2.2978 - accuracy: 0.1140 - val_loss: 2.2988 - val_accuracy: 0.1060\n",
            "Epoch 57/200\n",
            "375/375 [==============================] - 1s 2ms/step - loss: 2.2977 - accuracy: 0.1140 - val_loss: 2.2987 - val_accuracy: 0.1060\n",
            "Epoch 58/200\n",
            "375/375 [==============================] - 1s 2ms/step - loss: 2.2977 - accuracy: 0.1140 - val_loss: 2.2987 - val_accuracy: 0.1060\n",
            "Epoch 59/200\n",
            "375/375 [==============================] - 1s 2ms/step - loss: 2.2976 - accuracy: 0.1140 - val_loss: 2.2986 - val_accuracy: 0.1060\n",
            "Epoch 60/200\n",
            "375/375 [==============================] - 1s 2ms/step - loss: 2.2975 - accuracy: 0.1140 - val_loss: 2.2986 - val_accuracy: 0.1060\n",
            "Epoch 61/200\n",
            "375/375 [==============================] - 1s 2ms/step - loss: 2.2975 - accuracy: 0.1140 - val_loss: 2.2985 - val_accuracy: 0.1060\n",
            "Epoch 62/200\n",
            "375/375 [==============================] - 1s 2ms/step - loss: 2.2974 - accuracy: 0.1140 - val_loss: 2.2984 - val_accuracy: 0.1060\n",
            "Epoch 63/200\n",
            "375/375 [==============================] - 1s 2ms/step - loss: 2.2973 - accuracy: 0.1140 - val_loss: 2.2984 - val_accuracy: 0.1060\n",
            "Epoch 64/200\n",
            "375/375 [==============================] - 1s 2ms/step - loss: 2.2973 - accuracy: 0.1140 - val_loss: 2.2983 - val_accuracy: 0.1060\n",
            "Epoch 65/200\n",
            "375/375 [==============================] - 1s 2ms/step - loss: 2.2972 - accuracy: 0.1140 - val_loss: 2.2982 - val_accuracy: 0.1060\n",
            "Epoch 66/200\n",
            "375/375 [==============================] - 1s 2ms/step - loss: 2.2972 - accuracy: 0.1140 - val_loss: 2.2982 - val_accuracy: 0.1060\n",
            "Epoch 67/200\n",
            "375/375 [==============================] - 1s 2ms/step - loss: 2.2971 - accuracy: 0.1140 - val_loss: 2.2981 - val_accuracy: 0.1060\n",
            "Epoch 68/200\n",
            "375/375 [==============================] - 1s 2ms/step - loss: 2.2970 - accuracy: 0.1140 - val_loss: 2.2980 - val_accuracy: 0.1060\n",
            "Epoch 69/200\n",
            "375/375 [==============================] - 1s 2ms/step - loss: 2.2970 - accuracy: 0.1140 - val_loss: 2.2980 - val_accuracy: 0.1060\n",
            "Epoch 70/200\n",
            "375/375 [==============================] - 1s 2ms/step - loss: 2.2969 - accuracy: 0.1140 - val_loss: 2.2979 - val_accuracy: 0.1060\n",
            "Epoch 71/200\n",
            "375/375 [==============================] - 1s 2ms/step - loss: 2.2968 - accuracy: 0.1140 - val_loss: 2.2978 - val_accuracy: 0.1060\n",
            "Epoch 72/200\n",
            "375/375 [==============================] - 1s 2ms/step - loss: 2.2968 - accuracy: 0.1140 - val_loss: 2.2978 - val_accuracy: 0.1060\n",
            "Epoch 73/200\n",
            "375/375 [==============================] - 1s 2ms/step - loss: 2.2967 - accuracy: 0.1140 - val_loss: 2.2977 - val_accuracy: 0.1060\n",
            "Epoch 74/200\n",
            "375/375 [==============================] - 1s 2ms/step - loss: 2.2967 - accuracy: 0.1140 - val_loss: 2.2976 - val_accuracy: 0.1060\n",
            "Epoch 75/200\n",
            "375/375 [==============================] - 1s 2ms/step - loss: 2.2966 - accuracy: 0.1140 - val_loss: 2.2976 - val_accuracy: 0.1060\n",
            "Epoch 76/200\n",
            "375/375 [==============================] - 1s 2ms/step - loss: 2.2965 - accuracy: 0.1140 - val_loss: 2.2975 - val_accuracy: 0.1060\n",
            "Epoch 77/200\n",
            "375/375 [==============================] - 1s 2ms/step - loss: 2.2965 - accuracy: 0.1140 - val_loss: 2.2975 - val_accuracy: 0.1060\n",
            "Epoch 78/200\n",
            "375/375 [==============================] - 1s 2ms/step - loss: 2.2964 - accuracy: 0.1140 - val_loss: 2.2974 - val_accuracy: 0.1060\n",
            "Epoch 79/200\n",
            "375/375 [==============================] - 1s 2ms/step - loss: 2.2963 - accuracy: 0.1140 - val_loss: 2.2973 - val_accuracy: 0.1060\n",
            "Epoch 80/200\n",
            "375/375 [==============================] - 1s 2ms/step - loss: 2.2963 - accuracy: 0.1140 - val_loss: 2.2973 - val_accuracy: 0.1060\n",
            "Epoch 81/200\n",
            "375/375 [==============================] - 1s 2ms/step - loss: 2.2962 - accuracy: 0.1140 - val_loss: 2.2972 - val_accuracy: 0.1060\n",
            "Epoch 82/200\n",
            "375/375 [==============================] - 1s 2ms/step - loss: 2.2961 - accuracy: 0.1140 - val_loss: 2.2971 - val_accuracy: 0.1060\n",
            "Epoch 83/200\n",
            "375/375 [==============================] - 1s 2ms/step - loss: 2.2961 - accuracy: 0.1140 - val_loss: 2.2971 - val_accuracy: 0.1060\n",
            "Epoch 84/200\n",
            "375/375 [==============================] - 1s 2ms/step - loss: 2.2960 - accuracy: 0.1140 - val_loss: 2.2970 - val_accuracy: 0.1060\n",
            "Epoch 85/200\n",
            "375/375 [==============================] - 1s 2ms/step - loss: 2.2960 - accuracy: 0.1140 - val_loss: 2.2969 - val_accuracy: 0.1060\n",
            "Epoch 86/200\n",
            "375/375 [==============================] - 1s 2ms/step - loss: 2.2959 - accuracy: 0.1140 - val_loss: 2.2969 - val_accuracy: 0.1060\n",
            "Epoch 87/200\n",
            "375/375 [==============================] - 1s 2ms/step - loss: 2.2958 - accuracy: 0.1140 - val_loss: 2.2968 - val_accuracy: 0.1060\n",
            "Epoch 88/200\n",
            "375/375 [==============================] - 1s 2ms/step - loss: 2.2958 - accuracy: 0.1140 - val_loss: 2.2967 - val_accuracy: 0.1060\n",
            "Epoch 89/200\n",
            "375/375 [==============================] - 1s 2ms/step - loss: 2.2957 - accuracy: 0.1140 - val_loss: 2.2967 - val_accuracy: 0.1060\n",
            "Epoch 90/200\n",
            "375/375 [==============================] - 1s 2ms/step - loss: 2.2956 - accuracy: 0.1140 - val_loss: 2.2966 - val_accuracy: 0.1060\n",
            "Epoch 91/200\n",
            "375/375 [==============================] - 1s 2ms/step - loss: 2.2956 - accuracy: 0.1140 - val_loss: 2.2965 - val_accuracy: 0.1060\n",
            "Epoch 92/200\n",
            "375/375 [==============================] - 1s 2ms/step - loss: 2.2955 - accuracy: 0.1140 - val_loss: 2.2965 - val_accuracy: 0.1060\n",
            "Epoch 93/200\n",
            "375/375 [==============================] - 1s 2ms/step - loss: 2.2954 - accuracy: 0.1140 - val_loss: 2.2964 - val_accuracy: 0.1060\n",
            "Epoch 94/200\n",
            "375/375 [==============================] - 1s 2ms/step - loss: 2.2954 - accuracy: 0.1140 - val_loss: 2.2964 - val_accuracy: 0.1060\n",
            "Epoch 95/200\n",
            "375/375 [==============================] - 1s 2ms/step - loss: 2.2953 - accuracy: 0.1140 - val_loss: 2.2963 - val_accuracy: 0.1060\n",
            "Epoch 96/200\n",
            "375/375 [==============================] - 1s 2ms/step - loss: 2.2953 - accuracy: 0.1140 - val_loss: 2.2962 - val_accuracy: 0.1060\n",
            "Epoch 97/200\n",
            "375/375 [==============================] - 1s 2ms/step - loss: 2.2952 - accuracy: 0.1140 - val_loss: 2.2962 - val_accuracy: 0.1060\n",
            "Epoch 98/200\n",
            "375/375 [==============================] - 1s 2ms/step - loss: 2.2951 - accuracy: 0.1140 - val_loss: 2.2961 - val_accuracy: 0.1060\n",
            "Epoch 99/200\n",
            "375/375 [==============================] - 1s 2ms/step - loss: 2.2951 - accuracy: 0.1140 - val_loss: 2.2960 - val_accuracy: 0.1060\n",
            "Epoch 100/200\n",
            "375/375 [==============================] - 1s 2ms/step - loss: 2.2950 - accuracy: 0.1140 - val_loss: 2.2960 - val_accuracy: 0.1060\n",
            "Epoch 101/200\n",
            "375/375 [==============================] - 1s 2ms/step - loss: 2.2949 - accuracy: 0.1140 - val_loss: 2.2959 - val_accuracy: 0.1060\n",
            "Epoch 102/200\n",
            "375/375 [==============================] - 1s 2ms/step - loss: 2.2949 - accuracy: 0.1140 - val_loss: 2.2958 - val_accuracy: 0.1060\n",
            "Epoch 103/200\n",
            "375/375 [==============================] - 1s 2ms/step - loss: 2.2948 - accuracy: 0.1140 - val_loss: 2.2958 - val_accuracy: 0.1060\n",
            "Epoch 104/200\n",
            "375/375 [==============================] - 1s 2ms/step - loss: 2.2948 - accuracy: 0.1140 - val_loss: 2.2957 - val_accuracy: 0.1060\n",
            "Epoch 105/200\n",
            "375/375 [==============================] - 1s 2ms/step - loss: 2.2947 - accuracy: 0.1140 - val_loss: 2.2956 - val_accuracy: 0.1060\n",
            "Epoch 106/200\n",
            "375/375 [==============================] - 1s 2ms/step - loss: 2.2946 - accuracy: 0.1140 - val_loss: 2.2956 - val_accuracy: 0.1060\n",
            "Epoch 107/200\n",
            "375/375 [==============================] - 1s 2ms/step - loss: 2.2946 - accuracy: 0.1140 - val_loss: 2.2955 - val_accuracy: 0.1060\n",
            "Epoch 108/200\n",
            "375/375 [==============================] - 1s 2ms/step - loss: 2.2945 - accuracy: 0.1140 - val_loss: 2.2955 - val_accuracy: 0.1060\n",
            "Epoch 109/200\n",
            "375/375 [==============================] - 1s 2ms/step - loss: 2.2944 - accuracy: 0.1140 - val_loss: 2.2954 - val_accuracy: 0.1060\n",
            "Epoch 110/200\n",
            "375/375 [==============================] - 1s 2ms/step - loss: 2.2944 - accuracy: 0.1140 - val_loss: 2.2953 - val_accuracy: 0.1060\n",
            "Epoch 111/200\n",
            "375/375 [==============================] - 1s 2ms/step - loss: 2.2943 - accuracy: 0.1140 - val_loss: 2.2953 - val_accuracy: 0.1060\n",
            "Epoch 112/200\n",
            "375/375 [==============================] - 1s 2ms/step - loss: 2.2942 - accuracy: 0.1140 - val_loss: 2.2952 - val_accuracy: 0.1060\n",
            "Epoch 113/200\n",
            "375/375 [==============================] - 1s 2ms/step - loss: 2.2942 - accuracy: 0.1140 - val_loss: 2.2951 - val_accuracy: 0.1060\n",
            "Epoch 114/200\n",
            "375/375 [==============================] - 1s 2ms/step - loss: 2.2941 - accuracy: 0.1140 - val_loss: 2.2950 - val_accuracy: 0.1060\n",
            "Epoch 115/200\n",
            "375/375 [==============================] - 1s 2ms/step - loss: 2.2941 - accuracy: 0.1140 - val_loss: 2.2950 - val_accuracy: 0.1060\n",
            "Epoch 116/200\n",
            "375/375 [==============================] - 1s 2ms/step - loss: 2.2940 - accuracy: 0.1140 - val_loss: 2.2949 - val_accuracy: 0.1060\n",
            "Epoch 117/200\n",
            "375/375 [==============================] - 1s 2ms/step - loss: 2.2939 - accuracy: 0.1140 - val_loss: 2.2949 - val_accuracy: 0.1060\n",
            "Epoch 118/200\n",
            "375/375 [==============================] - 1s 2ms/step - loss: 2.2939 - accuracy: 0.1140 - val_loss: 2.2948 - val_accuracy: 0.1060\n",
            "Epoch 119/200\n",
            "375/375 [==============================] - 1s 2ms/step - loss: 2.2938 - accuracy: 0.1140 - val_loss: 2.2947 - val_accuracy: 0.1060\n",
            "Epoch 120/200\n",
            "375/375 [==============================] - 1s 2ms/step - loss: 2.2937 - accuracy: 0.1140 - val_loss: 2.2947 - val_accuracy: 0.1060\n",
            "Epoch 121/200\n",
            "375/375 [==============================] - 1s 2ms/step - loss: 2.2937 - accuracy: 0.1140 - val_loss: 2.2946 - val_accuracy: 0.1060\n",
            "Epoch 122/200\n",
            "375/375 [==============================] - 1s 2ms/step - loss: 2.2936 - accuracy: 0.1140 - val_loss: 2.2946 - val_accuracy: 0.1060\n",
            "Epoch 123/200\n",
            "375/375 [==============================] - 1s 2ms/step - loss: 2.2935 - accuracy: 0.1140 - val_loss: 2.2945 - val_accuracy: 0.1060\n",
            "Epoch 124/200\n",
            "375/375 [==============================] - 1s 2ms/step - loss: 2.2935 - accuracy: 0.1140 - val_loss: 2.2944 - val_accuracy: 0.1060\n",
            "Epoch 125/200\n",
            "375/375 [==============================] - 1s 2ms/step - loss: 2.2934 - accuracy: 0.1140 - val_loss: 2.2944 - val_accuracy: 0.1060\n",
            "Epoch 126/200\n",
            "375/375 [==============================] - 1s 2ms/step - loss: 2.2934 - accuracy: 0.1140 - val_loss: 2.2943 - val_accuracy: 0.1060\n",
            "Epoch 127/200\n",
            "375/375 [==============================] - 1s 2ms/step - loss: 2.2933 - accuracy: 0.1140 - val_loss: 2.2942 - val_accuracy: 0.1060\n",
            "Epoch 128/200\n",
            "375/375 [==============================] - 1s 2ms/step - loss: 2.2932 - accuracy: 0.1140 - val_loss: 2.2942 - val_accuracy: 0.1060\n",
            "Epoch 129/200\n",
            "375/375 [==============================] - 1s 2ms/step - loss: 2.2932 - accuracy: 0.1140 - val_loss: 2.2941 - val_accuracy: 0.1060\n",
            "Epoch 130/200\n",
            "375/375 [==============================] - 1s 2ms/step - loss: 2.2931 - accuracy: 0.1140 - val_loss: 2.2940 - val_accuracy: 0.1060\n",
            "Epoch 131/200\n",
            "375/375 [==============================] - 1s 2ms/step - loss: 2.2930 - accuracy: 0.1140 - val_loss: 2.2940 - val_accuracy: 0.1060\n",
            "Epoch 132/200\n",
            "375/375 [==============================] - 1s 2ms/step - loss: 2.2930 - accuracy: 0.1140 - val_loss: 2.2939 - val_accuracy: 0.1060\n",
            "Epoch 133/200\n",
            "375/375 [==============================] - 1s 2ms/step - loss: 2.2929 - accuracy: 0.1140 - val_loss: 2.2938 - val_accuracy: 0.1060\n",
            "Epoch 134/200\n",
            "375/375 [==============================] - 1s 2ms/step - loss: 2.2929 - accuracy: 0.1140 - val_loss: 2.2938 - val_accuracy: 0.1060\n",
            "Epoch 135/200\n",
            "375/375 [==============================] - 1s 2ms/step - loss: 2.2928 - accuracy: 0.1140 - val_loss: 2.2937 - val_accuracy: 0.1060\n",
            "Epoch 136/200\n",
            "375/375 [==============================] - 1s 2ms/step - loss: 2.2927 - accuracy: 0.1140 - val_loss: 2.2936 - val_accuracy: 0.1060\n",
            "Epoch 137/200\n",
            "375/375 [==============================] - 1s 2ms/step - loss: 2.2927 - accuracy: 0.1140 - val_loss: 2.2936 - val_accuracy: 0.1060\n",
            "Epoch 138/200\n",
            "375/375 [==============================] - 1s 2ms/step - loss: 2.2926 - accuracy: 0.1140 - val_loss: 2.2935 - val_accuracy: 0.1060\n",
            "Epoch 139/200\n",
            "375/375 [==============================] - 1s 2ms/step - loss: 2.2925 - accuracy: 0.1140 - val_loss: 2.2935 - val_accuracy: 0.1060\n",
            "Epoch 140/200\n",
            "375/375 [==============================] - 1s 2ms/step - loss: 2.2925 - accuracy: 0.1140 - val_loss: 2.2934 - val_accuracy: 0.1060\n",
            "Epoch 141/200\n",
            "375/375 [==============================] - 1s 2ms/step - loss: 2.2924 - accuracy: 0.1140 - val_loss: 2.2933 - val_accuracy: 0.1060\n",
            "Epoch 142/200\n",
            "375/375 [==============================] - 1s 2ms/step - loss: 2.2924 - accuracy: 0.1140 - val_loss: 2.2933 - val_accuracy: 0.1060\n",
            "Epoch 143/200\n",
            "375/375 [==============================] - 1s 2ms/step - loss: 2.2923 - accuracy: 0.1140 - val_loss: 2.2932 - val_accuracy: 0.1060\n",
            "Epoch 144/200\n",
            "375/375 [==============================] - 1s 2ms/step - loss: 2.2922 - accuracy: 0.1140 - val_loss: 2.2931 - val_accuracy: 0.1060\n",
            "Epoch 145/200\n",
            "375/375 [==============================] - 1s 2ms/step - loss: 2.2922 - accuracy: 0.1140 - val_loss: 2.2931 - val_accuracy: 0.1060\n",
            "Epoch 146/200\n",
            "375/375 [==============================] - 1s 2ms/step - loss: 2.2921 - accuracy: 0.1140 - val_loss: 2.2930 - val_accuracy: 0.1060\n",
            "Epoch 147/200\n",
            "375/375 [==============================] - 1s 2ms/step - loss: 2.2920 - accuracy: 0.1140 - val_loss: 2.2929 - val_accuracy: 0.1060\n",
            "Epoch 148/200\n",
            "375/375 [==============================] - 1s 2ms/step - loss: 2.2920 - accuracy: 0.1140 - val_loss: 2.2929 - val_accuracy: 0.1060\n",
            "Epoch 149/200\n",
            "375/375 [==============================] - 1s 2ms/step - loss: 2.2919 - accuracy: 0.1140 - val_loss: 2.2928 - val_accuracy: 0.1060\n",
            "Epoch 150/200\n",
            "375/375 [==============================] - 1s 2ms/step - loss: 2.2918 - accuracy: 0.1140 - val_loss: 2.2928 - val_accuracy: 0.1060\n",
            "Epoch 151/200\n",
            "375/375 [==============================] - 1s 2ms/step - loss: 2.2918 - accuracy: 0.1140 - val_loss: 2.2927 - val_accuracy: 0.1060\n",
            "Epoch 152/200\n",
            "375/375 [==============================] - 1s 2ms/step - loss: 2.2917 - accuracy: 0.1140 - val_loss: 2.2926 - val_accuracy: 0.1060\n",
            "Epoch 153/200\n",
            "375/375 [==============================] - 1s 2ms/step - loss: 2.2917 - accuracy: 0.1140 - val_loss: 2.2926 - val_accuracy: 0.1060\n",
            "Epoch 154/200\n",
            "375/375 [==============================] - 1s 2ms/step - loss: 2.2916 - accuracy: 0.1140 - val_loss: 2.2925 - val_accuracy: 0.1060\n",
            "Epoch 155/200\n",
            "375/375 [==============================] - 1s 2ms/step - loss: 2.2915 - accuracy: 0.1140 - val_loss: 2.2924 - val_accuracy: 0.1060\n",
            "Epoch 156/200\n",
            "375/375 [==============================] - 1s 2ms/step - loss: 2.2915 - accuracy: 0.1140 - val_loss: 2.2924 - val_accuracy: 0.1060\n",
            "Epoch 157/200\n",
            "375/375 [==============================] - 1s 2ms/step - loss: 2.2914 - accuracy: 0.1140 - val_loss: 2.2923 - val_accuracy: 0.1060\n",
            "Epoch 158/200\n",
            "375/375 [==============================] - 1s 2ms/step - loss: 2.2913 - accuracy: 0.1140 - val_loss: 2.2922 - val_accuracy: 0.1060\n",
            "Epoch 159/200\n",
            "375/375 [==============================] - 1s 2ms/step - loss: 2.2913 - accuracy: 0.1140 - val_loss: 2.2922 - val_accuracy: 0.1060\n",
            "Epoch 160/200\n",
            "375/375 [==============================] - 1s 2ms/step - loss: 2.2912 - accuracy: 0.1140 - val_loss: 2.2921 - val_accuracy: 0.1060\n",
            "Epoch 161/200\n",
            "375/375 [==============================] - 1s 2ms/step - loss: 2.2912 - accuracy: 0.1140 - val_loss: 2.2920 - val_accuracy: 0.1060\n",
            "Epoch 162/200\n",
            "375/375 [==============================] - 1s 2ms/step - loss: 2.2911 - accuracy: 0.1140 - val_loss: 2.2920 - val_accuracy: 0.1060\n",
            "Epoch 163/200\n",
            "375/375 [==============================] - 1s 2ms/step - loss: 2.2910 - accuracy: 0.1140 - val_loss: 2.2919 - val_accuracy: 0.1060\n",
            "Epoch 164/200\n",
            "375/375 [==============================] - 1s 2ms/step - loss: 2.2910 - accuracy: 0.1140 - val_loss: 2.2918 - val_accuracy: 0.1060\n",
            "Epoch 165/200\n",
            "375/375 [==============================] - 1s 2ms/step - loss: 2.2909 - accuracy: 0.1140 - val_loss: 2.2918 - val_accuracy: 0.1060\n",
            "Epoch 166/200\n",
            "375/375 [==============================] - 1s 2ms/step - loss: 2.2908 - accuracy: 0.1140 - val_loss: 2.2917 - val_accuracy: 0.1060\n",
            "Epoch 167/200\n",
            "375/375 [==============================] - 1s 2ms/step - loss: 2.2908 - accuracy: 0.1140 - val_loss: 2.2917 - val_accuracy: 0.1060\n",
            "Epoch 168/200\n",
            "375/375 [==============================] - 1s 2ms/step - loss: 2.2907 - accuracy: 0.1140 - val_loss: 2.2916 - val_accuracy: 0.1060\n",
            "Epoch 169/200\n",
            "375/375 [==============================] - 1s 2ms/step - loss: 2.2906 - accuracy: 0.1140 - val_loss: 2.2915 - val_accuracy: 0.1060\n",
            "Epoch 170/200\n",
            "375/375 [==============================] - 1s 2ms/step - loss: 2.2906 - accuracy: 0.1140 - val_loss: 2.2915 - val_accuracy: 0.1060\n",
            "Epoch 171/200\n",
            "375/375 [==============================] - 1s 2ms/step - loss: 2.2905 - accuracy: 0.1140 - val_loss: 2.2914 - val_accuracy: 0.1060\n",
            "Epoch 172/200\n",
            "375/375 [==============================] - 1s 2ms/step - loss: 2.2905 - accuracy: 0.1140 - val_loss: 2.2913 - val_accuracy: 0.1060\n",
            "Epoch 173/200\n",
            "375/375 [==============================] - 1s 2ms/step - loss: 2.2904 - accuracy: 0.1140 - val_loss: 2.2913 - val_accuracy: 0.1060\n",
            "Epoch 174/200\n",
            "375/375 [==============================] - 1s 2ms/step - loss: 2.2903 - accuracy: 0.1140 - val_loss: 2.2912 - val_accuracy: 0.1060\n",
            "Epoch 175/200\n",
            "375/375 [==============================] - 1s 2ms/step - loss: 2.2903 - accuracy: 0.1140 - val_loss: 2.2911 - val_accuracy: 0.1060\n",
            "Epoch 176/200\n",
            "375/375 [==============================] - 1s 2ms/step - loss: 2.2902 - accuracy: 0.1140 - val_loss: 2.2911 - val_accuracy: 0.1060\n",
            "Epoch 177/200\n",
            "375/375 [==============================] - 1s 2ms/step - loss: 2.2901 - accuracy: 0.1140 - val_loss: 2.2910 - val_accuracy: 0.1060\n",
            "Epoch 178/200\n",
            "375/375 [==============================] - 1s 2ms/step - loss: 2.2901 - accuracy: 0.1140 - val_loss: 2.2910 - val_accuracy: 0.1060\n",
            "Epoch 179/200\n",
            "375/375 [==============================] - 1s 2ms/step - loss: 2.2900 - accuracy: 0.1140 - val_loss: 2.2909 - val_accuracy: 0.1060\n",
            "Epoch 180/200\n",
            "375/375 [==============================] - 1s 2ms/step - loss: 2.2900 - accuracy: 0.1140 - val_loss: 2.2908 - val_accuracy: 0.1060\n",
            "Epoch 181/200\n",
            "375/375 [==============================] - 1s 2ms/step - loss: 2.2899 - accuracy: 0.1140 - val_loss: 2.2908 - val_accuracy: 0.1060\n",
            "Epoch 182/200\n",
            "375/375 [==============================] - 1s 2ms/step - loss: 2.2898 - accuracy: 0.1140 - val_loss: 2.2907 - val_accuracy: 0.1060\n",
            "Epoch 183/200\n",
            "375/375 [==============================] - 1s 2ms/step - loss: 2.2898 - accuracy: 0.1140 - val_loss: 2.2906 - val_accuracy: 0.1060\n",
            "Epoch 184/200\n",
            "375/375 [==============================] - 1s 2ms/step - loss: 2.2897 - accuracy: 0.1140 - val_loss: 2.2906 - val_accuracy: 0.1060\n",
            "Epoch 185/200\n",
            "375/375 [==============================] - 1s 2ms/step - loss: 2.2896 - accuracy: 0.1140 - val_loss: 2.2905 - val_accuracy: 0.1060\n",
            "Epoch 186/200\n",
            "375/375 [==============================] - 1s 2ms/step - loss: 2.2896 - accuracy: 0.1140 - val_loss: 2.2904 - val_accuracy: 0.1060\n",
            "Epoch 187/200\n",
            "375/375 [==============================] - 1s 2ms/step - loss: 2.2895 - accuracy: 0.1140 - val_loss: 2.2904 - val_accuracy: 0.1060\n",
            "Epoch 188/200\n",
            "375/375 [==============================] - 1s 2ms/step - loss: 2.2895 - accuracy: 0.1140 - val_loss: 2.2903 - val_accuracy: 0.1060\n",
            "Epoch 189/200\n",
            "375/375 [==============================] - 1s 2ms/step - loss: 2.2894 - accuracy: 0.1140 - val_loss: 2.2902 - val_accuracy: 0.1060\n",
            "Epoch 190/200\n",
            "375/375 [==============================] - 1s 2ms/step - loss: 2.2893 - accuracy: 0.1140 - val_loss: 2.2902 - val_accuracy: 0.1060\n",
            "Epoch 191/200\n",
            "375/375 [==============================] - 1s 2ms/step - loss: 2.2893 - accuracy: 0.1140 - val_loss: 2.2901 - val_accuracy: 0.1060\n",
            "Epoch 192/200\n",
            "375/375 [==============================] - 1s 2ms/step - loss: 2.2892 - accuracy: 0.1140 - val_loss: 2.2901 - val_accuracy: 0.1060\n",
            "Epoch 193/200\n",
            "375/375 [==============================] - 1s 2ms/step - loss: 2.2891 - accuracy: 0.1140 - val_loss: 2.2900 - val_accuracy: 0.1060\n",
            "Epoch 194/200\n",
            "375/375 [==============================] - 1s 2ms/step - loss: 2.2891 - accuracy: 0.1140 - val_loss: 2.2899 - val_accuracy: 0.1060\n",
            "Epoch 195/200\n",
            "375/375 [==============================] - 1s 2ms/step - loss: 2.2890 - accuracy: 0.1140 - val_loss: 2.2899 - val_accuracy: 0.1060\n",
            "Epoch 196/200\n",
            "375/375 [==============================] - 1s 2ms/step - loss: 2.2889 - accuracy: 0.1140 - val_loss: 2.2898 - val_accuracy: 0.1060\n",
            "Epoch 197/200\n",
            "375/375 [==============================] - 1s 2ms/step - loss: 2.2889 - accuracy: 0.1140 - val_loss: 2.2897 - val_accuracy: 0.1060\n",
            "Epoch 198/200\n",
            "375/375 [==============================] - 1s 2ms/step - loss: 2.2888 - accuracy: 0.1140 - val_loss: 2.2897 - val_accuracy: 0.1060\n",
            "Epoch 199/200\n",
            "375/375 [==============================] - 1s 2ms/step - loss: 2.2888 - accuracy: 0.1140 - val_loss: 2.2896 - val_accuracy: 0.1060\n",
            "Epoch 200/200\n",
            "375/375 [==============================] - 1s 2ms/step - loss: 2.2887 - accuracy: 0.1140 - val_loss: 2.2895 - val_accuracy: 0.1060\n"
          ],
          "name": "stdout"
        },
        {
          "output_type": "execute_result",
          "data": {
            "text/plain": [
              "<tensorflow.python.keras.callbacks.History at 0x7f7a2953bcc0>"
            ]
          },
          "metadata": {
            "tags": []
          },
          "execution_count": 12
        }
      ]
    },
    {
      "cell_type": "code",
      "metadata": {
        "id": "pOAXm-TuLTrO",
        "colab": {
          "base_uri": "https://localhost:8080/",
          "height": 51
        },
        "outputId": "b087047b-bf2b-4ca2-ba23-c0307d9615bb"
      },
      "source": [
        "#evaluate the model\n",
        "test_loss, test_acc = model.evaluate(X_test, Y_test)\n",
        "print('Test accuracy:', test_acc)\n",
        "\n",
        "# making prediction\n",
        "predictions = model.predict(X_test)"
      ],
      "execution_count": null,
      "outputs": [
        {
          "output_type": "stream",
          "text": [
            "313/313 [==============================] - 0s 1ms/step - loss: 2.2884 - accuracy: 0.1135\n",
            "Test accuracy: 0.11349999904632568\n"
          ],
          "name": "stdout"
        }
      ]
    }
  ]
}