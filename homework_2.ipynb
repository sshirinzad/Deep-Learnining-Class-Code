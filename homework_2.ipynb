{
  "cells": [
    {
      "cell_type": "markdown",
      "metadata": {
        "id": "view-in-github",
        "colab_type": "text"
      },
      "source": [
        "<a href=\"https://colab.research.google.com/github/sshirinzad/Deep-Learnining-Class-Code/blob/main/homework_2.ipynb\" target=\"_parent\"><img src=\"https://colab.research.google.com/assets/colab-badge.svg\" alt=\"Open In Colab\"/></a>"
      ]
    },
    {
      "cell_type": "markdown",
      "metadata": {
        "id": "e1mUj8b19lpV",
        "pycharm": {
          "name": "#%% md\n"
        }
      },
      "source": [
        "# SYS ENG 6213 - Deep Learning and Advanced Neural Networks"
      ]
    },
    {
      "cell_type": "markdown",
      "metadata": {
        "id": "6agd8XtI9lpX",
        "pycharm": {
          "name": "#%% md\n"
        }
      },
      "source": [
        "### Implementation of two layer neural network for classification of MNIST data\n",
        "\n"
      ]
    },
    {
      "cell_type": "code",
      "execution_count": null,
      "metadata": {
        "colab": {
          "base_uri": "https://localhost:8080/"
        },
        "id": "LMUjfyHu944Z",
        "outputId": "df778828-f5b5-4780-da74-f9385d6e34e5",
        "pycharm": {
          "name": "#%%\n"
        }
      },
      "outputs": [
        {
          "output_type": "stream",
          "name": "stdout",
          "text": [
            "sample_data\n"
          ]
        }
      ],
      "source": [
        "!ls"
      ]
    },
    {
      "cell_type": "code",
      "execution_count": null,
      "metadata": {
        "colab": {
          "base_uri": "https://localhost:8080/"
        },
        "id": "Zd_avEPG-CnW",
        "outputId": "b01c90dd-003f-4e1d-b5e5-d9d8b57e0344",
        "pycharm": {
          "name": "#%%\n"
        }
      },
      "outputs": [
        {
          "output_type": "stream",
          "name": "stdout",
          "text": [
            "Mounted at /content/drive\n"
          ]
        }
      ],
      "source": [
        "from google.colab import drive\n",
        "drive.mount('/content/drive')"
      ]
    },
    {
      "cell_type": "code",
      "execution_count": null,
      "metadata": {
        "colab": {
          "base_uri": "https://localhost:8080/"
        },
        "outputId": "e8d3c73e-d75d-42a5-ee30-0188ec4753a1",
        "id": "IBXbH_STc4HJ"
      },
      "outputs": [
        {
          "output_type": "stream",
          "name": "stdout",
          "text": [
            "/content/drive/My Drive/HW2 2024\n",
            "hw2_guide.pdf  layers.py  MNIST_data  __pycache__  utils.py  utils.pyc\n"
          ]
        }
      ],
      "source": [
        "%cd drive/My\\ Drive/HW2\\ 2024/\n",
        "!ls"
      ]
    },
    {
      "cell_type": "code",
      "execution_count": null,
      "metadata": {
        "id": "BaRdQez7HgaK",
        "pycharm": {
          "name": "#%%\n"
        }
      },
      "outputs": [],
      "source": [
        "def forward_step(x,w,b):\n",
        "\n",
        "    out = None\n",
        "    cache = (x,w,b)\n",
        "    ### Type your code here ###\n",
        "    out = np.dot(x,w) + b\n",
        "\n",
        "    #### End of your code ####\n",
        "\n",
        "    return (out,cache)"
      ]
    },
    {
      "cell_type": "code",
      "execution_count": null,
      "metadata": {
        "id": "9FXWgDUcInfU",
        "pycharm": {
          "name": "#%%\n"
        }
      },
      "outputs": [],
      "source": [
        "def ReLu_forward(x):\n",
        "    cache = x\n",
        "    out = None\n",
        "    ### Type your code here ###\n",
        "\n",
        "    out = np.maximum(x, 0)\n",
        "\n",
        "    #### End of your code ####\n",
        "    return (out,cache)"
      ]
    },
    {
      "cell_type": "markdown",
      "metadata": {
        "id": "qht_Pbuw9lpY",
        "pycharm": {
          "name": "#%% md\n"
        }
      },
      "source": [
        "In this homework you will be implementing a simple two layered neural network to recognize hand-written digits. Open the layers.py file. It has different functions which will be used for training the neural network. You need to complete each function with appropriate code in the spaces provided. You can check the correctness of your code by using the function calls below:"
      ]
    },
    {
      "cell_type": "code",
      "execution_count": null,
      "metadata": {
        "id": "yGOgTIqC9lpZ",
        "pycharm": {
          "name": "#%%\n"
        }
      },
      "outputs": [],
      "source": [
        "# Import the functions\n",
        "from layers import *\n",
        "from utils import *\n",
        "#from keras.layers import *\n",
        "#from keras.utils import *\n",
        "# Set up the packages\n",
        "import numpy as np\n",
        "import matplotlib.pyplot as plt\n",
        "import matplotlib as mpl"
      ]
    },
    {
      "cell_type": "markdown",
      "metadata": {
        "id": "QtTs_tv39lpg",
        "pycharm": {
          "name": "#%% md\n"
        }
      },
      "source": [
        "checking layers.py functions:"
      ]
    },
    {
      "cell_type": "code",
      "execution_count": null,
      "metadata": {
        "id": "qXovxjYT9lph",
        "pycharm": {
          "name": "#%%\n"
        }
      },
      "outputs": [],
      "source": [
        "# Initialize values for check functions\n",
        "test_x = np.asarray([\n",
        "  [-0.000615  ,  0.0214419 , -0.36510585,  0.20082408],\n",
        "  [ 0.22389826,  0.14115274,  0.05578092,  0.1698094 ],\n",
        "  [-0.23772221,  0.00885403, -0.13013507,  0.02939912],\n",
        "  [ 0.05740505, -0.026481  ,  0.09055714, -0.51067097],\n",
        "  [ 0.02905955, -0.26222096,  0.23401101, -0.32704291]])\n",
        "test_w = np.asarray([\n",
        "  [ 0.14083526, -0.00589104, -0.01267299],\n",
        "  [ 0.2149024 ,  0.05601603,  0.22214587],\n",
        "  [-0.0246409 ,  0.01524164, -0.16539496],\n",
        "  [-0.07199102, -0.12796543,  0.2509505 ]])\n",
        "test_b = np.asarray([0.24348208,  0.02070011, -0.05303671])\n",
        "fs_scores = np.asarray([[ 0.24254239, -0.00935853,  0.06251788],\n",
        "       [ 0.29174967,  0.00640839,  0.0088702 ],\n",
        "       [ 0.21299534,  0.01685097, -0.01915576],\n",
        "       [ 0.28040822,  0.08560704, -0.20277768],\n",
        "       [ 0.20900069,  0.05125724, -0.23243211]])\n",
        "ftest_w = np.asarray([[ 0.03670967,  0.00383852, -0.01189351],\n",
        "        [-0.01396215, -0.01485459,  0.06874128],\n",
        "        [-0.02569631,  0.0213285 , -0.09259266],\n",
        "        [-0.10703647, -0.06077616,  0.19306612]])\n",
        "ftest_b = np.asarray([ 1.23669631,  0.15076511, -0.38297747])\n",
        "ftest_x = np.asarray([[ 0.03342136,  0.0654868 , -0.01645924, -0.00057441],\n",
        "        [ 0.04093848,  0.06502716, -0.00855839, -0.01959743],\n",
        "        [ 0.03014075,  0.04246176, -0.00182329, -0.02229724],\n",
        "        [ 0.04155685,  0.02000954,  0.02793369, -0.08202878],\n",
        "        [ 0.03207832, -0.00384786,  0.03407438, -0.07993428]])\n",
        "frelu = np.asarray([[ 0.24254239,  0.        ,  0.06251788],\n",
        "        [ 0.29174967,  0.00640839,  0.0088702 ],\n",
        "        [ 0.21299534,  0.01685097,  0.        ],\n",
        "        [ 0.28040822,  0.08560704,  0.        ],\n",
        "        [ 0.20900069,  0.05125724,  0.        ]])\n",
        "brelu = np.asarray([[ 0.14254239,  0.        , -0.03748212],\n",
        "       [ 0.19174967, -0.09359161, -0.0911298 ],\n",
        "       [ 0.11299534, -0.08314903,  0.        ],\n",
        "       [ 0.18040822, -0.01439296,  0.        ],\n",
        "       [ 0.10900069, -0.04874276,  0.        ]])\n",
        "ssoftmax = np.asarray([[ 0.25380621,  0.25946659,  0.17628115,  0.31044604],\n",
        "        [ 0.26931036,  0.24792319,  0.22763584,  0.25513061],\n",
        "        [ 0.21279206,  0.27229653,  0.23696266,  0.27794875],\n",
        "        [ 0.28410234,  0.26124234,  0.29367879,  0.16097652],\n",
        "        [ 0.27209608,  0.20333904,  0.33398855,  0.19057633]])\n",
        "test_y = np.asarray([3,0,1,2,1])\n",
        "test_l = 1.3201297629287778\n",
        "test_de = np.asarray([[ 0.05076124,  0.05189332,  0.03525623, -0.13791079],\n",
        "        [-0.14613793,  0.04958464,  0.04552717,  0.05102612],\n",
        "        [ 0.04255841, -0.14554069,  0.04739253,  0.05558975],\n",
        "        [ 0.05682047,  0.05224847, -0.14126424,  0.0321953 ],\n",
        "        [ 0.05441922, -0.15933219,  0.06679771,  0.03811527]])\n"
      ]
    },
    {
      "cell_type": "code",
      "execution_count": null,
      "metadata": {
        "colab": {
          "base_uri": "https://localhost:8080/"
        },
        "id": "lAPXzAKV9lpn",
        "outputId": "59021551-12ea-437e-81e6-3e0ceb2a141d",
        "pycharm": {
          "name": "#%%\n"
        }
      },
      "outputs": [
        {
          "output_type": "stream",
          "name": "stdout",
          "text": [
            "Note: The difference between the actual values and calculated values should be <1e-7 for all functions.\n",
            "\n",
            "1. Checking forward_step..\n",
            "The difference values is: 3.690392374848528e-08\n",
            "forward_step check passed ...\n",
            "\n",
            "2. Checking backward_step...\n",
            "The difference values for dx is: 5.7273561981582843e-08\n",
            "The difference values for dw is: 3.372888388855286e-08\n",
            "The difference values for db is: 2.220446049250313e-16\n",
            "backward_step check passed !!\n",
            "\n",
            "3. Checking ReLu_forward...\n",
            "The difference value is: 0.0\n",
            "ReLu_forward check passed !!\n",
            "\n",
            "4. Checking ReLu_backward...\n",
            "The difference value is: 8.673617379884035e-17\n",
            "ReLu_backward check passed !!\n",
            "\n",
            "5. Checking softmax...\n",
            "The difference values is: 5.824567875234443e-08\n",
            "softmax check passed !!\n",
            "\n",
            "6. Checking loss...\n",
            "The difference between values for loss is: 0.0\n",
            "The difference between values for de is:4.199999995013748e-08\n",
            "loss check passed !!\n"
          ]
        }
      ],
      "source": [
        "# Run this block to check the values for all functions in layers.py\n",
        "print('Note: The difference between the actual values and calculated values should be <1e-7 for all functions.')\n",
        "print('')\n",
        "print('1. Checking forward_step..')\n",
        "forward_step_scores,cache = forward_step(test_x,test_w,test_b)\n",
        "diff = np.sum(np.abs(forward_step_scores - fs_scores))\n",
        "print('The difference values is: '+str(diff))\n",
        "if diff<1e-7:\n",
        "    print('forward_step check passed ...')\n",
        "else:\n",
        "    print('forward_step check failed !!')\n",
        "print('')\n",
        "print ('2. Checking backward_step...')\n",
        "dtest_w,dtest_b,dtest_x = backward_step(fs_scores,cache)\n",
        "diff_x = np.sum(np.abs(dtest_x - ftest_x))\n",
        "diff_w = np.sum(np.abs(dtest_w - ftest_w))\n",
        "diff_b = np.sum(np.abs(dtest_b - ftest_b))\n",
        "print('The difference values for dx is: '+str(diff_x))\n",
        "print('The difference values for dw is: '+str(diff_w))\n",
        "print('The difference values for db is: '+str(diff_b))\n",
        "if (diff_x<1e-7 and diff_w<1e-7 and diff_b<1e-7):\n",
        "    print('backward_step check passed !!')\n",
        "else:\n",
        "    print('backward_step check failed !!')\n",
        "print('')\n",
        "print('3. Checking ReLu_forward...')\n",
        "r_score,cache = ReLu_forward(fs_scores)\n",
        "diff_relu = np.sum(np.abs(r_score - frelu))\n",
        "print('The difference value is: '+str(diff_relu))\n",
        "if diff_relu<1e-7:\n",
        "    print('ReLu_forward check passed !!')\n",
        "else:\n",
        "    print('ReLu_forward check failed !!')\n",
        "print('')\n",
        "print('4. Checking ReLu_backward...')\n",
        "dr_score = ReLu_backward(frelu-0.1,cache)\n",
        "diff_relu = np.sum(np.abs(dr_score - brelu))\n",
        "print('The difference value is: '+str(diff_relu))\n",
        "if diff_relu<1e-7:\n",
        "    print('ReLu_backward check passed !!')\n",
        "else:\n",
        "    print('ReLu_backward check failed !!')\n",
        "print('')\n",
        "print('5. Checking softmax...')\n",
        "s_score = softmax(test_x)\n",
        "diff = np.sum(np.abs(s_score - ssoftmax))\n",
        "print('The difference values is: '+str(diff))\n",
        "if diff<1e-7:\n",
        "    print('softmax check passed !!')\n",
        "else:\n",
        "    print('softmax check failed !!')\n",
        "print('')\n",
        "print('6. Checking loss...')\n",
        "l,lde = loss(ssoftmax,test_y)\n",
        "diff_l = np.sum(np.abs(l - test_l))\n",
        "diff_de = np.sum(np.abs(lde - test_de))\n",
        "print('The difference between values for loss is: '+str(diff_l))\n",
        "print('The difference between values for de is:' + str(diff_de))\n",
        "if (diff_l<1e-7 and diff_de<1e-7):\n",
        "    print('loss check passed !!')\n",
        "else:\n",
        "    print('loss check failed !!')"
      ]
    },
    {
      "cell_type": "markdown",
      "metadata": {
        "collapsed": true,
        "id": "2sNqIJgp9lpv",
        "pycharm": {
          "name": "#%% md\n"
        }
      },
      "source": [
        "If all the checks are passed, we can now start the training of the neural network for the MNIST dataset. We start by loading the data and displaying few images with their corresponding labels."
      ]
    },
    {
      "cell_type": "code",
      "execution_count": null,
      "metadata": {
        "colab": {
          "base_uri": "https://localhost:8080/",
          "height": 135
        },
        "id": "guor4Pps9lpw",
        "outputId": "b21cd426-8b1d-4e42-f663-918fb2ebe11f",
        "pycharm": {
          "name": "#%%\n"
        }
      },
      "outputs": [
        {
          "output_type": "display_data",
          "data": {
            "text/plain": [
              "<Figure size 640x480 with 8 Axes>"
            ],
            "image/png": "[encoded data removed]"
          },
          "metadata": {}
        }
      ],
      "source": [
        "# Load the training data\n",
        "inputs, labels = load_images_with_labels()\n",
        "\n",
        "# View first 8 examples\n",
        "fig, ax = plt.subplots(1,8)\n",
        "labl = []\n",
        "for i in range(8):\n",
        "    ax[i].imshow(inputs[i], cmap=mpl.cm.Greys)\n",
        "    ax[i].set_title(labels[i])\n",
        "plt.show()\n"
      ]
    },
    {
      "cell_type": "markdown",
      "metadata": {
        "id": "rOeyZEQ19lp2",
        "pycharm": {
          "name": "#%% md\n"
        }
      },
      "source": [
        "Now you have the training data and corresponding labels. Each image in training data is of shape (28,28) with values ranging from 0 to 255. However, neural network cannot take data in square format. Therefore, the preprocessing includes converting each image to shape (1,784) and normalizing them."
      ]
    },
    {
      "cell_type": "code",
      "execution_count": null,
      "metadata": {
        "id": "ghMNSdI39lp3",
        "pycharm": {
          "name": "#%%\n"
        }
      },
      "outputs": [],
      "source": [
        "# Pre-processing the data\n",
        "train=inputs.reshape(60000,784) # reshape the inputs shape from (60000,28,28) to (60000,784)\n",
        "train = np.float32(train) # change the datatype to float\n",
        "train /= np.max(train,axis=1).reshape(-1,1) # Normalize the data between 0 and 1\n",
        "\n",
        "# Now we separate the inputs into training and validation\n",
        "train_ = train[0:50000,:] # We use first 50000 images for training\n",
        "tr_labels = labels[0:50000]\n",
        "val = train[50000:60000,:] # We use the last 10000 images for validation\n",
        "val_labels = labels[50000:60000]\n"
      ]
    },
    {
      "cell_type": "markdown",
      "metadata": {
        "id": "TMeP27Qg9lp8",
        "pycharm": {
          "name": "#%% md\n"
        }
      },
      "source": [
        "In order to simplify the training, we now define a function for forward pass which will be used in training the neural network and predicting."
      ]
    },
    {
      "cell_type": "code",
      "execution_count": null,
      "metadata": {
        "id": "TL3AuGpg9lp-",
        "pycharm": {
          "name": "#%%\n"
        }
      },
      "outputs": [],
      "source": [
        "def forward_pass(x,w1,b1,w2,b2):\n",
        "    \"\"\"\n",
        "    TO DO: Compute the forward pass of the neural network\n",
        "    Points Allocated: 5\n",
        "\n",
        "    Inputs:\n",
        "    x: Numpy array of shape (N,d) where N is number of samples\n",
        "    and d is the dimension of input\n",
        "    w1: numpy array of shape (d,H) where H is the size of hidden layer\n",
        "    w2: numpy array of shape (H,c) where c is the number of classes\n",
        "    b1: numpy array of shape (H,)\n",
        "    b2: numpy array of shape (c,)\n",
        "\n",
        "    Outputs:\n",
        "    probs: output of shape (N,c)\n",
        "    cache_out: cache values for output layer\n",
        "    cache_relu: cache values for ReLu layer\n",
        "    cache_ip: cache values for input layer\n",
        "    \"\"\"\n",
        "    probs,cache_out,cache_relu,cache_ip = None,None,None,None\n",
        "\n",
        "    ### Type your code here ###\n",
        "    layer_output ,cache_ip = forward_step(x, w1, b1)\n",
        "    activation_out, cache_relu = ReLu_forward(layer_output)\n",
        "    final_output, cache_out = forward_step(activation_out, w2, b2)\n",
        "    probs = softmax(final_output)\n",
        "    #### End of your code ####\n",
        "\n",
        "    return(probs,cache_out,cache_relu,cache_ip)\n"
      ]
    },
    {
      "cell_type": "markdown",
      "metadata": {
        "id": "GmklDOud9lqD",
        "pycharm": {
          "name": "#%% md\n"
        }
      },
      "source": [
        "Now that you have implemented forward pass, the stochastic gradient descent algorithm works by finding the loss/error in forward pass with respect to target and traversing the error backwards. In the following function, you will implement the backward pass."
      ]
    },
    {
      "cell_type": "code",
      "execution_count": null,
      "metadata": {
        "id": "oKTJ2LQ_9lqE",
        "pycharm": {
          "name": "#%%\n"
        }
      },
      "outputs": [],
      "source": [
        "def backward_pass(probs,y,cache_out,cache_relu,cache_ip):\n",
        "    \"\"\"\n",
        "    TO DO: Compute the backward pass of the neural network\n",
        "    Points Allocated: 5\n",
        "\n",
        "    Inputs:\n",
        "    probs: output of shape (N,c)\n",
        "    cache_out: cache values for output layer\n",
        "    cache_relu: cache values for ReLu layer\n",
        "    cache_ip: cache values for input layer\n",
        "\n",
        "    Outputs:\n",
        "    loss_: loss value of the forward pass\n",
        "    dw2: numpy array with samw shape as w2\n",
        "    db2: numpy array with same shape as b2\n",
        "    dw1: numpy array with same shape as w1\n",
        "    db1: numpy array with same shape as b1\n",
        "    \"\"\"\n",
        "    ### Type your code here ###\n",
        "\n",
        "    loss_, de_ = loss(probs, y)\n",
        "    dw2, db2, dx_2 = backward_step(de_, cache_out, input_layer=False)\n",
        "    dx_activation = ReLu_backward(dx_2, cache_relu)\n",
        "    dw1, db1, dx_1 = backward_step(dx_activation, cache_ip, input_layer=True)\n",
        "\n",
        "    #### End of your code ####\n",
        "\n",
        "    return(loss_,dw2,db2,dw1,db1)"
      ]
    },
    {
      "cell_type": "code",
      "execution_count": null,
      "metadata": {
        "id": "xAr4UGu39lqK",
        "pycharm": {
          "name": "#%%\n"
        }
      },
      "outputs": [],
      "source": [
        "# The following function will be used to predict the labels for given images, weights and biases\n",
        "def predict(X_batch,parameters):\n",
        "    probs,_,_,_ = forward_pass(X_batch,parameters['w1'],parameters['b1'],parameters['w2'],parameters['b2'])\n",
        "    y_pred = np.argmax(probs, axis = 1)\n",
        "    return (y_pred)"
      ]
    },
    {
      "cell_type": "code",
      "execution_count": null,
      "metadata": {
        "id": "_aLVButd9lqQ",
        "pycharm": {
          "name": "#%%\n"
        }
      },
      "outputs": [],
      "source": [
        "parameters = {}\n",
        "w1 = 0.3 * np.random.randn(784, 30)\n",
        "b1 = np.zeros(30)\n",
        "w2 = 0.3 * np.random.randn(30, 10)\n",
        "b2 = np.zeros(10)\n",
        "grads={}\n",
        "loss_,grads['w1'],grads['b1'],grads['w2'],grads['b2']=None,None,None,None,None\n",
        "val_size = 10000\n",
        "loss_history=[]\n",
        "idx = np.random.choice(50000, 100, replace=True)\n",
        "x = train[idx]\n",
        "y = labels[idx]\n",
        "hi,cache_ip = forward_step(x,w1,b1)\n",
        "ho,cache_relu = ReLu_forward(hi)\n",
        "out,cache_out = forward_step(ho,w2,b2)\n",
        "probs = softmax(out)"
      ]
    },
    {
      "cell_type": "code",
      "execution_count": null,
      "metadata": {
        "id": "GIIQWCaE9lqV",
        "pycharm": {
          "name": "#%%\n"
        }
      },
      "outputs": [],
      "source": [
        "def TwoLayerNN(learning_rate,num_iters,batch_size,train,labels,X_val,y_val):\n",
        "    \"\"\"\n",
        "    Function to train the two layered neural network to predict MNIST data.\n",
        "    Inputs:\n",
        "    learning_rate: scalar value contating learning rate for training\n",
        "    num_iters: number of iterations for training\n",
        "    batch_size: number of sample used for training in each iteration\n",
        "    train: trainig data\n",
        "    labels: labels fro the training data\n",
        "    X_val: inputs for validation data\n",
        "    y_val: labels for validation data\n",
        "\n",
        "    Output:\n",
        "    parameters: dictionary containing trained weights and biases\n",
        "    loss_history: list contating loss values for each iteration during training. It will have length of num_iters\n",
        "    \"\"\"\n",
        "    parameters = {}\n",
        "    parameters['w1'] = 0.3 * np.random.randn(784, 30)\n",
        "    parameters['b1'] = np.zeros(30)\n",
        "    parameters['w2'] = 0.3 * np.random.randn(30, 10)\n",
        "    parameters['b2'] = np.zeros(10)\n",
        "    grads={}\n",
        "    loss_,grads['w1'],grads['b1'],grads['w2'],grads['b2']=None,None,None,None,None\n",
        "    val_size = 10000\n",
        "    loss_history=[]\n",
        "    for it in range(num_iters):\n",
        "        idx = np.random.choice(50000, batch_size, replace=True)\n",
        "        X_batch = train[idx]\n",
        "        y_batch = labels[idx]\n",
        "        # The following steps implement the forward and backward pass\n",
        "        probs,cache_out,cache_relu,cache_ip = forward_pass(X_batch,parameters['w1'],parameters['b1'],parameters['w2'],parameters['b2'])\n",
        "        loss_,grads['w2'],grads['b2'],grads['w1'],grads['b1'] = backward_pass(probs,y_batch,cache_out,cache_relu,cache_ip)\n",
        "        loss_history.append(loss_)\n",
        "        #Now update the weights and biases in paramaters\n",
        "\n",
        "        ### Type your code here ###\n",
        "        parameters['w1'] += -learning_rate*grads['w1']\n",
        "        parameters['b1'] += -learning_rate*grads['b1']\n",
        "        parameters['w2'] += -learning_rate*grads['w2']\n",
        "        parameters['b2'] += -learning_rate*grads['b2']\n",
        "        #### End of your code ####\n",
        "\n",
        "        train_acc = (predict(X_batch,parameters) == y_batch).mean()\n",
        "        val_acc = (predict(X_val,parameters) == y_val).mean()\n",
        "\n",
        "        if it % 10 == 0:\n",
        "            print ('iteration '+str(it) + ' / '+ str(num_iters) +' :loss ' + str(loss_))\n",
        "            print('training accuracy: '+ str(train_acc) + ' and validation accuracy: '+ str(val_acc))\n",
        "    return (parameters,loss_history)"
      ]
    },
    {
      "cell_type": "code",
      "execution_count": null,
      "metadata": {
        "colab": {
          "base_uri": "https://localhost:8080/"
        },
        "id": "7JQ2A1Wx9lqc",
        "outputId": "5d0e2ccd-b4c1-4881-f8f3-7dadcce1a251",
        "pycharm": {
          "name": "#%%\n"
        }
      },
      "outputs": [
        {
          "output_type": "stream",
          "name": "stdout",
          "text": [
            "iteration 0 / 1000 :loss 5.024606838037081\n",
            "training accuracy: 0.175 and validation accuracy: 0.1234\n",
            "iteration 10 / 1000 :loss 2.2919703840922607\n",
            "training accuracy: 0.35 and validation accuracy: 0.3318\n",
            "iteration 20 / 1000 :loss 1.7823594345984088\n",
            "training accuracy: 0.46 and validation accuracy: 0.4779\n",
            "iteration 30 / 1000 :loss 1.296199377572475\n",
            "training accuracy: 0.535 and validation accuracy: 0.5607\n",
            "iteration 40 / 1000 :loss 1.113666174731454\n",
            "training accuracy: 0.66 and validation accuracy: 0.6161\n",
            "iteration 50 / 1000 :loss 1.371984292528316\n",
            "training accuracy: 0.58 and validation accuracy: 0.6566\n",
            "iteration 60 / 1000 :loss 1.153722668993109\n",
            "training accuracy: 0.665 and validation accuracy: 0.6973\n",
            "iteration 70 / 1000 :loss 0.9375367586182506\n",
            "training accuracy: 0.725 and validation accuracy: 0.7261\n",
            "iteration 80 / 1000 :loss 0.829789186127302\n",
            "training accuracy: 0.725 and validation accuracy: 0.739\n",
            "iteration 90 / 1000 :loss 0.831062541318513\n",
            "training accuracy: 0.755 and validation accuracy: 0.7636\n",
            "iteration 100 / 1000 :loss 0.8369286339576015\n",
            "training accuracy: 0.72 and validation accuracy: 0.7702\n",
            "iteration 110 / 1000 :loss 0.6833567545792251\n",
            "training accuracy: 0.79 and validation accuracy: 0.786\n",
            "iteration 120 / 1000 :loss 0.6795175460132046\n",
            "training accuracy: 0.805 and validation accuracy: 0.7921\n",
            "iteration 130 / 1000 :loss 0.6010111021660371\n",
            "training accuracy: 0.835 and validation accuracy: 0.8046\n",
            "iteration 140 / 1000 :loss 0.6971173288585751\n",
            "training accuracy: 0.815 and validation accuracy: 0.8003\n",
            "iteration 150 / 1000 :loss 0.584260843665881\n",
            "training accuracy: 0.87 and validation accuracy: 0.8133\n",
            "iteration 160 / 1000 :loss 0.5815982831828285\n",
            "training accuracy: 0.81 and validation accuracy: 0.8252\n",
            "iteration 170 / 1000 :loss 0.5945624727816162\n",
            "training accuracy: 0.835 and validation accuracy: 0.8241\n",
            "iteration 180 / 1000 :loss 0.5651134511228026\n",
            "training accuracy: 0.845 and validation accuracy: 0.8308\n",
            "iteration 190 / 1000 :loss 0.6068205133522844\n",
            "training accuracy: 0.82 and validation accuracy: 0.8332\n",
            "iteration 200 / 1000 :loss 0.6292947314258668\n",
            "training accuracy: 0.81 and validation accuracy: 0.8348\n",
            "iteration 210 / 1000 :loss 0.4669845838309024\n",
            "training accuracy: 0.86 and validation accuracy: 0.8411\n",
            "iteration 220 / 1000 :loss 0.49344124365930964\n",
            "training accuracy: 0.9 and validation accuracy: 0.8415\n",
            "iteration 230 / 1000 :loss 0.47041495729242355\n",
            "training accuracy: 0.85 and validation accuracy: 0.8479\n",
            "iteration 240 / 1000 :loss 0.4529084547958982\n",
            "training accuracy: 0.88 and validation accuracy: 0.8491\n",
            "iteration 250 / 1000 :loss 0.4841011425917106\n",
            "training accuracy: 0.88 and validation accuracy: 0.8491\n",
            "iteration 260 / 1000 :loss 0.5360852367423894\n",
            "training accuracy: 0.865 and validation accuracy: 0.8502\n",
            "iteration 270 / 1000 :loss 0.4521225586650799\n",
            "training accuracy: 0.9 and validation accuracy: 0.8523\n",
            "iteration 280 / 1000 :loss 0.5138267148238975\n",
            "training accuracy: 0.845 and validation accuracy: 0.8577\n",
            "iteration 290 / 1000 :loss 0.45183297717553145\n",
            "training accuracy: 0.865 and validation accuracy: 0.8598\n",
            "iteration 300 / 1000 :loss 0.6338145443724331\n",
            "training accuracy: 0.825 and validation accuracy: 0.8613\n",
            "iteration 310 / 1000 :loss 0.48239150741159587\n",
            "training accuracy: 0.88 and validation accuracy: 0.862\n",
            "iteration 320 / 1000 :loss 0.39703634712970515\n",
            "training accuracy: 0.895 and validation accuracy: 0.8635\n",
            "iteration 330 / 1000 :loss 0.5270889121692848\n",
            "training accuracy: 0.85 and validation accuracy: 0.8644\n",
            "iteration 340 / 1000 :loss 0.5970635054477684\n",
            "training accuracy: 0.835 and validation accuracy: 0.864\n",
            "iteration 350 / 1000 :loss 0.518353716273553\n",
            "training accuracy: 0.825 and validation accuracy: 0.8672\n",
            "iteration 360 / 1000 :loss 0.43442248446186765\n",
            "training accuracy: 0.89 and validation accuracy: 0.8695\n",
            "iteration 370 / 1000 :loss 0.4029576377145604\n",
            "training accuracy: 0.865 and validation accuracy: 0.8702\n",
            "iteration 380 / 1000 :loss 0.5062544737495904\n",
            "training accuracy: 0.845 and validation accuracy: 0.8729\n",
            "iteration 390 / 1000 :loss 0.36056408294327297\n",
            "training accuracy: 0.875 and validation accuracy: 0.875\n",
            "iteration 400 / 1000 :loss 0.43543629959916785\n",
            "training accuracy: 0.88 and validation accuracy: 0.8729\n",
            "iteration 410 / 1000 :loss 0.5482483430594961\n",
            "training accuracy: 0.87 and validation accuracy: 0.8731\n",
            "iteration 420 / 1000 :loss 0.3457274177536594\n",
            "training accuracy: 0.9 and validation accuracy: 0.8744\n",
            "iteration 430 / 1000 :loss 0.41934356331087747\n",
            "training accuracy: 0.91 and validation accuracy: 0.8764\n",
            "iteration 440 / 1000 :loss 0.37073971217274737\n",
            "training accuracy: 0.89 and validation accuracy: 0.8772\n",
            "iteration 450 / 1000 :loss 0.3406698481436408\n",
            "training accuracy: 0.895 and validation accuracy: 0.8781\n",
            "iteration 460 / 1000 :loss 0.4777765444256625\n",
            "training accuracy: 0.865 and validation accuracy: 0.8817\n",
            "iteration 470 / 1000 :loss 0.4213568737516441\n",
            "training accuracy: 0.87 and validation accuracy: 0.8793\n",
            "iteration 480 / 1000 :loss 0.4534776241885102\n",
            "training accuracy: 0.885 and validation accuracy: 0.8834\n",
            "iteration 490 / 1000 :loss 0.38397905026962675\n",
            "training accuracy: 0.89 and validation accuracy: 0.8804\n",
            "iteration 500 / 1000 :loss 0.4944889433009296\n",
            "training accuracy: 0.87 and validation accuracy: 0.887\n",
            "iteration 510 / 1000 :loss 0.4175406974858397\n",
            "training accuracy: 0.885 and validation accuracy: 0.8845\n",
            "iteration 520 / 1000 :loss 0.31003404998878387\n",
            "training accuracy: 0.905 and validation accuracy: 0.8846\n",
            "iteration 530 / 1000 :loss 0.4173190944057312\n",
            "training accuracy: 0.88 and validation accuracy: 0.8866\n",
            "iteration 540 / 1000 :loss 0.36236484158635107\n",
            "training accuracy: 0.905 and validation accuracy: 0.8832\n",
            "iteration 550 / 1000 :loss 0.3890893825268563\n",
            "training accuracy: 0.88 and validation accuracy: 0.8882\n",
            "iteration 560 / 1000 :loss 0.395928524711425\n",
            "training accuracy: 0.88 and validation accuracy: 0.8885\n",
            "iteration 570 / 1000 :loss 0.3613461605769057\n",
            "training accuracy: 0.885 and validation accuracy: 0.8868\n",
            "iteration 580 / 1000 :loss 0.3810489823277781\n",
            "training accuracy: 0.87 and validation accuracy: 0.8893\n",
            "iteration 590 / 1000 :loss 0.48558867400469874\n",
            "training accuracy: 0.865 and validation accuracy: 0.8908\n",
            "iteration 600 / 1000 :loss 0.5393820397046354\n",
            "training accuracy: 0.885 and validation accuracy: 0.8862\n",
            "iteration 610 / 1000 :loss 0.5852174975847665\n",
            "training accuracy: 0.85 and validation accuracy: 0.8888\n",
            "iteration 620 / 1000 :loss 0.3851722920590854\n",
            "training accuracy: 0.9 and validation accuracy: 0.8897\n",
            "iteration 630 / 1000 :loss 0.3595487505352027\n",
            "training accuracy: 0.885 and validation accuracy: 0.8903\n",
            "iteration 640 / 1000 :loss 0.48137995199684924\n",
            "training accuracy: 0.845 and validation accuracy: 0.8876\n",
            "iteration 650 / 1000 :loss 0.3734039491450369\n",
            "training accuracy: 0.88 and validation accuracy: 0.8897\n",
            "iteration 660 / 1000 :loss 0.39657610257663456\n",
            "training accuracy: 0.9 and validation accuracy: 0.8886\n",
            "iteration 670 / 1000 :loss 0.373486580173495\n",
            "training accuracy: 0.905 and validation accuracy: 0.8946\n",
            "iteration 680 / 1000 :loss 0.4190997273583765\n",
            "training accuracy: 0.9 and validation accuracy: 0.8902\n",
            "iteration 690 / 1000 :loss 0.33517081313524627\n",
            "training accuracy: 0.905 and validation accuracy: 0.8925\n",
            "iteration 700 / 1000 :loss 0.2883015815067198\n",
            "training accuracy: 0.91 and validation accuracy: 0.8964\n",
            "iteration 710 / 1000 :loss 0.42532292407543537\n",
            "training accuracy: 0.88 and validation accuracy: 0.8954\n",
            "iteration 720 / 1000 :loss 0.3510870182519356\n",
            "training accuracy: 0.915 and validation accuracy: 0.8946\n",
            "iteration 730 / 1000 :loss 0.4149819377035936\n",
            "training accuracy: 0.9 and validation accuracy: 0.8939\n",
            "iteration 740 / 1000 :loss 0.3469727708456432\n",
            "training accuracy: 0.885 and validation accuracy: 0.8973\n",
            "iteration 750 / 1000 :loss 0.31489708506572867\n",
            "training accuracy: 0.91 and validation accuracy: 0.8951\n",
            "iteration 760 / 1000 :loss 0.3461957361774343\n",
            "training accuracy: 0.905 and validation accuracy: 0.8975\n",
            "iteration 770 / 1000 :loss 0.45674206598916006\n",
            "training accuracy: 0.88 and validation accuracy: 0.8968\n",
            "iteration 780 / 1000 :loss 0.3599367402219633\n",
            "training accuracy: 0.915 and validation accuracy: 0.8956\n",
            "iteration 790 / 1000 :loss 0.3530794150308484\n",
            "training accuracy: 0.895 and validation accuracy: 0.8988\n",
            "iteration 800 / 1000 :loss 0.31215575727476197\n",
            "training accuracy: 0.925 and validation accuracy: 0.8978\n",
            "iteration 810 / 1000 :loss 0.5061169061923454\n",
            "training accuracy: 0.885 and validation accuracy: 0.9005\n",
            "iteration 820 / 1000 :loss 0.3664361086003929\n",
            "training accuracy: 0.9 and validation accuracy: 0.8986\n",
            "iteration 830 / 1000 :loss 0.2837962689324319\n",
            "training accuracy: 0.925 and validation accuracy: 0.9001\n",
            "iteration 840 / 1000 :loss 0.3279211763816723\n",
            "training accuracy: 0.885 and validation accuracy: 0.8989\n",
            "iteration 850 / 1000 :loss 0.45550559421154263\n",
            "training accuracy: 0.835 and validation accuracy: 0.8998\n",
            "iteration 860 / 1000 :loss 0.46088752505144326\n",
            "training accuracy: 0.875 and validation accuracy: 0.9\n",
            "iteration 870 / 1000 :loss 0.34186895701165343\n",
            "training accuracy: 0.9 and validation accuracy: 0.9015\n",
            "iteration 880 / 1000 :loss 0.4322829129878966\n",
            "training accuracy: 0.9 and validation accuracy: 0.8999\n",
            "iteration 890 / 1000 :loss 0.4321687612922355\n",
            "training accuracy: 0.91 and validation accuracy: 0.9006\n",
            "iteration 900 / 1000 :loss 0.3502196834251622\n",
            "training accuracy: 0.9 and validation accuracy: 0.8993\n",
            "iteration 910 / 1000 :loss 0.5043481072770908\n",
            "training accuracy: 0.88 and validation accuracy: 0.9022\n",
            "iteration 920 / 1000 :loss 0.30092499260614053\n",
            "training accuracy: 0.9 and validation accuracy: 0.904\n",
            "iteration 930 / 1000 :loss 0.32843861450146844\n",
            "training accuracy: 0.885 and validation accuracy: 0.9042\n",
            "iteration 940 / 1000 :loss 0.2707482312448981\n",
            "training accuracy: 0.915 and validation accuracy: 0.9043\n",
            "iteration 950 / 1000 :loss 0.26886301805699836\n",
            "training accuracy: 0.945 and validation accuracy: 0.904\n",
            "iteration 960 / 1000 :loss 0.21549603030941378\n",
            "training accuracy: 0.94 and validation accuracy: 0.9049\n",
            "iteration 970 / 1000 :loss 0.28986081779300066\n",
            "training accuracy: 0.935 and validation accuracy: 0.9027\n",
            "iteration 980 / 1000 :loss 0.31202962880743224\n",
            "training accuracy: 0.9 and validation accuracy: 0.9047\n",
            "iteration 990 / 1000 :loss 0.46237914379908035\n",
            "training accuracy: 0.895 and validation accuracy: 0.9056\n"
          ]
        }
      ],
      "source": [
        "parameters,loss_history = TwoLayerNN(0.1,1000,200,train_,tr_labels,val,val_labels)"
      ]
    },
    {
      "cell_type": "code",
      "execution_count": null,
      "metadata": {
        "colab": {
          "base_uri": "https://localhost:8080/",
          "height": 472
        },
        "id": "_Y729JQy9lqg",
        "outputId": "a0aae829-1080-4cf6-d3a8-d3caba513010",
        "pycharm": {
          "name": "#%%\n"
        }
      },
      "outputs": [
        {
          "output_type": "display_data",
          "data": {
            "text/plain": [
              "<Figure size 640x480 with 1 Axes>"
            ],
            "image/png": "[encoded data removed]"
          },
          "metadata": {}
        }
      ],
      "source": [
        "# plot the loss to see how the loss varied over iterations\n",
        "plt.plot(loss_history)\n",
        "plt.xlabel('iteration')\n",
        "plt.ylabel('training loss')\n",
        "plt.title('Training Loss history')\n",
        "plt.show()\n"
      ]
    },
    {
      "cell_type": "code",
      "execution_count": null,
      "metadata": {
        "id": "NvurG86T9lqm",
        "pycharm": {
          "name": "#%%\n"
        }
      },
      "outputs": [],
      "source": [
        "# Loading and pre=processing test data\n",
        "t_inputs, tlabels = load_images_with_labels(type_of_data = 'testing')\n",
        "tinputs=t_inputs.reshape(10000,784)\n",
        "tinputs = np.float32(tinputs)\n",
        "tinputs /= np.max(tinputs,axis=1).reshape(-1,1)"
      ]
    },
    {
      "cell_type": "code",
      "execution_count": null,
      "metadata": {
        "colab": {
          "base_uri": "https://localhost:8080/"
        },
        "id": "6nyJO0P99lqr",
        "outputId": "847c11f8-9e26-49e2-e128-961002f3510e",
        "pycharm": {
          "name": "#%%\n"
        }
      },
      "outputs": [
        {
          "output_type": "stream",
          "name": "stdout",
          "text": [
            "0.9047\n"
          ]
        }
      ],
      "source": [
        "# Calculate the accuracy on test data using trained weights and biases\n",
        "pred = predict(tinputs,parameters)\n",
        "test_acc = (pred == tlabels).mean()\n",
        "print(test_acc)"
      ]
    },
    {
      "cell_type": "code",
      "execution_count": null,
      "metadata": {
        "colab": {
          "base_uri": "https://localhost:8080/",
          "height": 186
        },
        "id": "oQjF7n939lqx",
        "outputId": "ec17645d-6c8a-46f0-ed38-2b19d3d53326",
        "pycharm": {
          "name": "#%%\n"
        }
      },
      "outputs": [
        {
          "output_type": "display_data",
          "data": {
            "text/plain": [
              "<Figure size 640x480 with 5 Axes>"
            ],
            "image/png": "[encoded data removed]"
          },
          "metadata": {}
        },
        {
          "output_type": "stream",
          "name": "stdout",
          "text": [
            "Corresponding predictions of labels for each of the above images: [8, 3, 0, 2, 7]\n"
          ]
        }
      ],
      "source": [
        "# Predict the labels for n images for visual representation\n",
        "n=5 # number of images to predict\n",
        "idx = np.random.choice(10000, n, replace=False) # select n random images from test data\n",
        "labl=[]\n",
        "# View first n examples\n",
        "fig, ax = plt.subplots(1,n)\n",
        "for i,val in enumerate(idx):\n",
        "    ax[i].imshow(t_inputs[val], cmap=mpl.cm.Greys)\n",
        "    ax[i].set_title(tlabels[val])\n",
        "    labl.append(pred[val])\n",
        "plt.show()\n",
        "\n",
        "print('Corresponding predictions of labels for each of the above images: '+ str(labl))"
      ]
    }
  ],
  "metadata": {
    "colab": {
      "provenance": [],
      "include_colab_link": true
    },
    "kernelspec": {
      "display_name": "Python 3 (ipykernel)",
      "language": "python",
      "name": "python3"
    },
    "language_info": {
      "codemirror_mode": {
        "name": "ipython",
        "version": 3
      },
      "file_extension": ".py",
      "mimetype": "text/x-python",
      "name": "python",
      "nbconvert_exporter": "python",
      "pygments_lexer": "ipython3",
      "version": "3.9.12"
    }
  },
  "nbformat": 4,
  "nbformat_minor": 0
}